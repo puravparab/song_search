{
 "cells": [
  {
   "cell_type": "markdown",
   "id": "f186d05e-346a-4040-bf11-0e0143ada312",
   "metadata": {},
   "source": [
    "# SongSearch\n",
    "Using spotify song data for similarity search\n",
    "\n",
    "## Table of Contents:\n",
    "* [Dataset](#Dataset)\n",
    "* [Visualizing the embeddings](#Visualizing_the_embeddings)\n",
    "* [Similarity Search](#Similarity_search)\n",
    "    * [K Nearest Neighbors](#knn)\n",
    "    * [Cosine Similarity](#cosine_similarity)\n",
    "    * [Optimized Cosine Similarity](#optim_cosine_similarity)"
   ]
  },
  {
   "cell_type": "code",
   "execution_count": 2,
   "id": "f061fd46-0c30-47b7-9159-1780366180ee",
   "metadata": {},
   "outputs": [],
   "source": [
    "import pandas as pd\n",
    "import numpy as np"
   ]
  },
  {
   "cell_type": "markdown",
   "id": "d0d0d842-fb55-442c-88c6-6da0c5cce5b5",
   "metadata": {},
   "source": [
    "---\n",
    "## Dataset <a class=\"anchor\" id=\"Dataset\"></a>\n",
    "\n",
    "30k songs from spotify api\n",
    "\n",
    "source: https://www.kaggle.com/datasets/joebeachcapital/30000-spotify-songs\n",
    "\n",
    "Uploaded december 2023"
   ]
  },
  {
   "cell_type": "markdown",
   "id": "ea166b7b-64f8-4744-a2f5-a260dea9e567",
   "metadata": {},
   "source": [
    "### Import the song data"
   ]
  },
  {
   "cell_type": "code",
   "execution_count": 3,
   "id": "f9228a04-f24f-4874-9911-7f9d9e489b5e",
   "metadata": {
    "scrolled": true
   },
   "outputs": [
    {
     "name": "stdout",
     "output_type": "stream",
     "text": [
      "No of songs: 32833, No of columns: 23\n"
     ]
    }
   ],
   "source": [
    "csv_file = \"../dataset/spotify_songs.csv\"\n",
    "df = pd.read_csv(csv_file)\n",
    "print(f'No of songs: {df.shape[0]}, No of columns: {df.shape[1]}') # print shape of dataset"
   ]
  },
  {
   "cell_type": "code",
   "execution_count": 4,
   "id": "0af3c20b-aaa1-42ab-851f-ee1458253e54",
   "metadata": {
    "scrolled": true
   },
   "outputs": [
    {
     "data": {
      "text/html": [
       "<div>\n",
       "<style scoped>\n",
       "    .dataframe tbody tr th:only-of-type {\n",
       "        vertical-align: middle;\n",
       "    }\n",
       "\n",
       "    .dataframe tbody tr th {\n",
       "        vertical-align: top;\n",
       "    }\n",
       "\n",
       "    .dataframe thead th {\n",
       "        text-align: right;\n",
       "    }\n",
       "</style>\n",
       "<table border=\"1\" class=\"dataframe\">\n",
       "  <thead>\n",
       "    <tr style=\"text-align: right;\">\n",
       "      <th></th>\n",
       "      <th>track_id</th>\n",
       "      <th>track_name</th>\n",
       "      <th>track_artist</th>\n",
       "      <th>track_popularity</th>\n",
       "      <th>track_album_id</th>\n",
       "      <th>track_album_name</th>\n",
       "      <th>track_album_release_date</th>\n",
       "      <th>playlist_name</th>\n",
       "      <th>playlist_id</th>\n",
       "      <th>playlist_genre</th>\n",
       "      <th>...</th>\n",
       "      <th>key</th>\n",
       "      <th>loudness</th>\n",
       "      <th>mode</th>\n",
       "      <th>speechiness</th>\n",
       "      <th>acousticness</th>\n",
       "      <th>instrumentalness</th>\n",
       "      <th>liveness</th>\n",
       "      <th>valence</th>\n",
       "      <th>tempo</th>\n",
       "      <th>duration_ms</th>\n",
       "    </tr>\n",
       "  </thead>\n",
       "  <tbody>\n",
       "    <tr>\n",
       "      <th>0</th>\n",
       "      <td>6f807x0ima9a1j3VPbc7VN</td>\n",
       "      <td>I Don't Care (with Justin Bieber) - Loud Luxur...</td>\n",
       "      <td>Ed Sheeran</td>\n",
       "      <td>66</td>\n",
       "      <td>2oCs0DGTsRO98Gh5ZSl2Cx</td>\n",
       "      <td>I Don't Care (with Justin Bieber) [Loud Luxury...</td>\n",
       "      <td>2019-06-14</td>\n",
       "      <td>Pop Remix</td>\n",
       "      <td>37i9dQZF1DXcZDD7cfEKhW</td>\n",
       "      <td>pop</td>\n",
       "      <td>...</td>\n",
       "      <td>6</td>\n",
       "      <td>-2.634</td>\n",
       "      <td>1</td>\n",
       "      <td>0.0583</td>\n",
       "      <td>0.1020</td>\n",
       "      <td>0.000000</td>\n",
       "      <td>0.0653</td>\n",
       "      <td>0.518</td>\n",
       "      <td>122.036</td>\n",
       "      <td>194754</td>\n",
       "    </tr>\n",
       "    <tr>\n",
       "      <th>1</th>\n",
       "      <td>0r7CVbZTWZgbTCYdfa2P31</td>\n",
       "      <td>Memories - Dillon Francis Remix</td>\n",
       "      <td>Maroon 5</td>\n",
       "      <td>67</td>\n",
       "      <td>63rPSO264uRjW1X5E6cWv6</td>\n",
       "      <td>Memories (Dillon Francis Remix)</td>\n",
       "      <td>2019-12-13</td>\n",
       "      <td>Pop Remix</td>\n",
       "      <td>37i9dQZF1DXcZDD7cfEKhW</td>\n",
       "      <td>pop</td>\n",
       "      <td>...</td>\n",
       "      <td>11</td>\n",
       "      <td>-4.969</td>\n",
       "      <td>1</td>\n",
       "      <td>0.0373</td>\n",
       "      <td>0.0724</td>\n",
       "      <td>0.004210</td>\n",
       "      <td>0.3570</td>\n",
       "      <td>0.693</td>\n",
       "      <td>99.972</td>\n",
       "      <td>162600</td>\n",
       "    </tr>\n",
       "    <tr>\n",
       "      <th>2</th>\n",
       "      <td>1z1Hg7Vb0AhHDiEmnDE79l</td>\n",
       "      <td>All the Time - Don Diablo Remix</td>\n",
       "      <td>Zara Larsson</td>\n",
       "      <td>70</td>\n",
       "      <td>1HoSmj2eLcsrR0vE9gThr4</td>\n",
       "      <td>All the Time (Don Diablo Remix)</td>\n",
       "      <td>2019-07-05</td>\n",
       "      <td>Pop Remix</td>\n",
       "      <td>37i9dQZF1DXcZDD7cfEKhW</td>\n",
       "      <td>pop</td>\n",
       "      <td>...</td>\n",
       "      <td>1</td>\n",
       "      <td>-3.432</td>\n",
       "      <td>0</td>\n",
       "      <td>0.0742</td>\n",
       "      <td>0.0794</td>\n",
       "      <td>0.000023</td>\n",
       "      <td>0.1100</td>\n",
       "      <td>0.613</td>\n",
       "      <td>124.008</td>\n",
       "      <td>176616</td>\n",
       "    </tr>\n",
       "    <tr>\n",
       "      <th>3</th>\n",
       "      <td>75FpbthrwQmzHlBJLuGdC7</td>\n",
       "      <td>Call You Mine - Keanu Silva Remix</td>\n",
       "      <td>The Chainsmokers</td>\n",
       "      <td>60</td>\n",
       "      <td>1nqYsOef1yKKuGOVchbsk6</td>\n",
       "      <td>Call You Mine - The Remixes</td>\n",
       "      <td>2019-07-19</td>\n",
       "      <td>Pop Remix</td>\n",
       "      <td>37i9dQZF1DXcZDD7cfEKhW</td>\n",
       "      <td>pop</td>\n",
       "      <td>...</td>\n",
       "      <td>7</td>\n",
       "      <td>-3.778</td>\n",
       "      <td>1</td>\n",
       "      <td>0.1020</td>\n",
       "      <td>0.0287</td>\n",
       "      <td>0.000009</td>\n",
       "      <td>0.2040</td>\n",
       "      <td>0.277</td>\n",
       "      <td>121.956</td>\n",
       "      <td>169093</td>\n",
       "    </tr>\n",
       "    <tr>\n",
       "      <th>4</th>\n",
       "      <td>1e8PAfcKUYoKkxPhrHqw4x</td>\n",
       "      <td>Someone You Loved - Future Humans Remix</td>\n",
       "      <td>Lewis Capaldi</td>\n",
       "      <td>69</td>\n",
       "      <td>7m7vv9wlQ4i0LFuJiE2zsQ</td>\n",
       "      <td>Someone You Loved (Future Humans Remix)</td>\n",
       "      <td>2019-03-05</td>\n",
       "      <td>Pop Remix</td>\n",
       "      <td>37i9dQZF1DXcZDD7cfEKhW</td>\n",
       "      <td>pop</td>\n",
       "      <td>...</td>\n",
       "      <td>1</td>\n",
       "      <td>-4.672</td>\n",
       "      <td>1</td>\n",
       "      <td>0.0359</td>\n",
       "      <td>0.0803</td>\n",
       "      <td>0.000000</td>\n",
       "      <td>0.0833</td>\n",
       "      <td>0.725</td>\n",
       "      <td>123.976</td>\n",
       "      <td>189052</td>\n",
       "    </tr>\n",
       "  </tbody>\n",
       "</table>\n",
       "<p>5 rows × 23 columns</p>\n",
       "</div>"
      ],
      "text/plain": [
       "                 track_id                                         track_name  \\\n",
       "0  6f807x0ima9a1j3VPbc7VN  I Don't Care (with Justin Bieber) - Loud Luxur...   \n",
       "1  0r7CVbZTWZgbTCYdfa2P31                    Memories - Dillon Francis Remix   \n",
       "2  1z1Hg7Vb0AhHDiEmnDE79l                    All the Time - Don Diablo Remix   \n",
       "3  75FpbthrwQmzHlBJLuGdC7                  Call You Mine - Keanu Silva Remix   \n",
       "4  1e8PAfcKUYoKkxPhrHqw4x            Someone You Loved - Future Humans Remix   \n",
       "\n",
       "       track_artist  track_popularity          track_album_id  \\\n",
       "0        Ed Sheeran                66  2oCs0DGTsRO98Gh5ZSl2Cx   \n",
       "1          Maroon 5                67  63rPSO264uRjW1X5E6cWv6   \n",
       "2      Zara Larsson                70  1HoSmj2eLcsrR0vE9gThr4   \n",
       "3  The Chainsmokers                60  1nqYsOef1yKKuGOVchbsk6   \n",
       "4     Lewis Capaldi                69  7m7vv9wlQ4i0LFuJiE2zsQ   \n",
       "\n",
       "                                    track_album_name track_album_release_date  \\\n",
       "0  I Don't Care (with Justin Bieber) [Loud Luxury...               2019-06-14   \n",
       "1                    Memories (Dillon Francis Remix)               2019-12-13   \n",
       "2                    All the Time (Don Diablo Remix)               2019-07-05   \n",
       "3                        Call You Mine - The Remixes               2019-07-19   \n",
       "4            Someone You Loved (Future Humans Remix)               2019-03-05   \n",
       "\n",
       "  playlist_name             playlist_id playlist_genre  ... key  loudness  \\\n",
       "0     Pop Remix  37i9dQZF1DXcZDD7cfEKhW            pop  ...   6    -2.634   \n",
       "1     Pop Remix  37i9dQZF1DXcZDD7cfEKhW            pop  ...  11    -4.969   \n",
       "2     Pop Remix  37i9dQZF1DXcZDD7cfEKhW            pop  ...   1    -3.432   \n",
       "3     Pop Remix  37i9dQZF1DXcZDD7cfEKhW            pop  ...   7    -3.778   \n",
       "4     Pop Remix  37i9dQZF1DXcZDD7cfEKhW            pop  ...   1    -4.672   \n",
       "\n",
       "   mode  speechiness  acousticness  instrumentalness  liveness  valence  \\\n",
       "0     1       0.0583        0.1020          0.000000    0.0653    0.518   \n",
       "1     1       0.0373        0.0724          0.004210    0.3570    0.693   \n",
       "2     0       0.0742        0.0794          0.000023    0.1100    0.613   \n",
       "3     1       0.1020        0.0287          0.000009    0.2040    0.277   \n",
       "4     1       0.0359        0.0803          0.000000    0.0833    0.725   \n",
       "\n",
       "     tempo  duration_ms  \n",
       "0  122.036       194754  \n",
       "1   99.972       162600  \n",
       "2  124.008       176616  \n",
       "3  121.956       169093  \n",
       "4  123.976       189052  \n",
       "\n",
       "[5 rows x 23 columns]"
      ]
     },
     "execution_count": 4,
     "metadata": {},
     "output_type": "execute_result"
    }
   ],
   "source": [
    "df.head() # print first 5 rows"
   ]
  },
  {
   "cell_type": "code",
   "execution_count": 5,
   "id": "deb3899f-cc25-4319-8b7a-4a9ebc509fcf",
   "metadata": {},
   "outputs": [
    {
     "name": "stdout",
     "output_type": "stream",
     "text": [
      "<class 'pandas.core.frame.DataFrame'>\n",
      "RangeIndex: 32833 entries, 0 to 32832\n",
      "Data columns (total 23 columns):\n",
      " #   Column                    Non-Null Count  Dtype  \n",
      "---  ------                    --------------  -----  \n",
      " 0   track_id                  32833 non-null  object \n",
      " 1   track_name                32828 non-null  object \n",
      " 2   track_artist              32828 non-null  object \n",
      " 3   track_popularity          32833 non-null  int64  \n",
      " 4   track_album_id            32833 non-null  object \n",
      " 5   track_album_name          32828 non-null  object \n",
      " 6   track_album_release_date  32833 non-null  object \n",
      " 7   playlist_name             32833 non-null  object \n",
      " 8   playlist_id               32833 non-null  object \n",
      " 9   playlist_genre            32833 non-null  object \n",
      " 10  playlist_subgenre         32833 non-null  object \n",
      " 11  danceability              32833 non-null  float64\n",
      " 12  energy                    32833 non-null  float64\n",
      " 13  key                       32833 non-null  int64  \n",
      " 14  loudness                  32833 non-null  float64\n",
      " 15  mode                      32833 non-null  int64  \n",
      " 16  speechiness               32833 non-null  float64\n",
      " 17  acousticness              32833 non-null  float64\n",
      " 18  instrumentalness          32833 non-null  float64\n",
      " 19  liveness                  32833 non-null  float64\n",
      " 20  valence                   32833 non-null  float64\n",
      " 21  tempo                     32833 non-null  float64\n",
      " 22  duration_ms               32833 non-null  int64  \n",
      "dtypes: float64(9), int64(4), object(10)\n",
      "memory usage: 5.8+ MB\n"
     ]
    }
   ],
   "source": [
    "df.info()"
   ]
  },
  {
   "cell_type": "code",
   "execution_count": 6,
   "id": "459b0567-8d1a-4663-9b5b-c59f2cb2402d",
   "metadata": {},
   "outputs": [
    {
     "data": {
      "text/html": [
       "<div>\n",
       "<style scoped>\n",
       "    .dataframe tbody tr th:only-of-type {\n",
       "        vertical-align: middle;\n",
       "    }\n",
       "\n",
       "    .dataframe tbody tr th {\n",
       "        vertical-align: top;\n",
       "    }\n",
       "\n",
       "    .dataframe thead th {\n",
       "        text-align: right;\n",
       "    }\n",
       "</style>\n",
       "<table border=\"1\" class=\"dataframe\">\n",
       "  <thead>\n",
       "    <tr style=\"text-align: right;\">\n",
       "      <th></th>\n",
       "      <th>track_popularity</th>\n",
       "      <th>danceability</th>\n",
       "      <th>energy</th>\n",
       "      <th>key</th>\n",
       "      <th>loudness</th>\n",
       "      <th>mode</th>\n",
       "      <th>speechiness</th>\n",
       "      <th>acousticness</th>\n",
       "      <th>instrumentalness</th>\n",
       "      <th>liveness</th>\n",
       "      <th>valence</th>\n",
       "      <th>tempo</th>\n",
       "      <th>duration_ms</th>\n",
       "    </tr>\n",
       "  </thead>\n",
       "  <tbody>\n",
       "    <tr>\n",
       "      <th>count</th>\n",
       "      <td>32833.000000</td>\n",
       "      <td>32833.000000</td>\n",
       "      <td>32833.000000</td>\n",
       "      <td>32833.000000</td>\n",
       "      <td>32833.000000</td>\n",
       "      <td>32833.000000</td>\n",
       "      <td>32833.000000</td>\n",
       "      <td>32833.000000</td>\n",
       "      <td>32833.000000</td>\n",
       "      <td>32833.000000</td>\n",
       "      <td>32833.000000</td>\n",
       "      <td>32833.000000</td>\n",
       "      <td>32833.000000</td>\n",
       "    </tr>\n",
       "    <tr>\n",
       "      <th>mean</th>\n",
       "      <td>42.477081</td>\n",
       "      <td>0.654850</td>\n",
       "      <td>0.698619</td>\n",
       "      <td>5.374471</td>\n",
       "      <td>-6.719499</td>\n",
       "      <td>0.565711</td>\n",
       "      <td>0.107068</td>\n",
       "      <td>0.175334</td>\n",
       "      <td>0.084747</td>\n",
       "      <td>0.190176</td>\n",
       "      <td>0.510561</td>\n",
       "      <td>120.881132</td>\n",
       "      <td>225799.811622</td>\n",
       "    </tr>\n",
       "    <tr>\n",
       "      <th>std</th>\n",
       "      <td>24.984074</td>\n",
       "      <td>0.145085</td>\n",
       "      <td>0.180910</td>\n",
       "      <td>3.611657</td>\n",
       "      <td>2.988436</td>\n",
       "      <td>0.495671</td>\n",
       "      <td>0.101314</td>\n",
       "      <td>0.219633</td>\n",
       "      <td>0.224230</td>\n",
       "      <td>0.154317</td>\n",
       "      <td>0.233146</td>\n",
       "      <td>26.903624</td>\n",
       "      <td>59834.006182</td>\n",
       "    </tr>\n",
       "    <tr>\n",
       "      <th>min</th>\n",
       "      <td>0.000000</td>\n",
       "      <td>0.000000</td>\n",
       "      <td>0.000175</td>\n",
       "      <td>0.000000</td>\n",
       "      <td>-46.448000</td>\n",
       "      <td>0.000000</td>\n",
       "      <td>0.000000</td>\n",
       "      <td>0.000000</td>\n",
       "      <td>0.000000</td>\n",
       "      <td>0.000000</td>\n",
       "      <td>0.000000</td>\n",
       "      <td>0.000000</td>\n",
       "      <td>4000.000000</td>\n",
       "    </tr>\n",
       "    <tr>\n",
       "      <th>25%</th>\n",
       "      <td>24.000000</td>\n",
       "      <td>0.563000</td>\n",
       "      <td>0.581000</td>\n",
       "      <td>2.000000</td>\n",
       "      <td>-8.171000</td>\n",
       "      <td>0.000000</td>\n",
       "      <td>0.041000</td>\n",
       "      <td>0.015100</td>\n",
       "      <td>0.000000</td>\n",
       "      <td>0.092700</td>\n",
       "      <td>0.331000</td>\n",
       "      <td>99.960000</td>\n",
       "      <td>187819.000000</td>\n",
       "    </tr>\n",
       "    <tr>\n",
       "      <th>50%</th>\n",
       "      <td>45.000000</td>\n",
       "      <td>0.672000</td>\n",
       "      <td>0.721000</td>\n",
       "      <td>6.000000</td>\n",
       "      <td>-6.166000</td>\n",
       "      <td>1.000000</td>\n",
       "      <td>0.062500</td>\n",
       "      <td>0.080400</td>\n",
       "      <td>0.000016</td>\n",
       "      <td>0.127000</td>\n",
       "      <td>0.512000</td>\n",
       "      <td>121.984000</td>\n",
       "      <td>216000.000000</td>\n",
       "    </tr>\n",
       "    <tr>\n",
       "      <th>75%</th>\n",
       "      <td>62.000000</td>\n",
       "      <td>0.761000</td>\n",
       "      <td>0.840000</td>\n",
       "      <td>9.000000</td>\n",
       "      <td>-4.645000</td>\n",
       "      <td>1.000000</td>\n",
       "      <td>0.132000</td>\n",
       "      <td>0.255000</td>\n",
       "      <td>0.004830</td>\n",
       "      <td>0.248000</td>\n",
       "      <td>0.693000</td>\n",
       "      <td>133.918000</td>\n",
       "      <td>253585.000000</td>\n",
       "    </tr>\n",
       "    <tr>\n",
       "      <th>max</th>\n",
       "      <td>100.000000</td>\n",
       "      <td>0.983000</td>\n",
       "      <td>1.000000</td>\n",
       "      <td>11.000000</td>\n",
       "      <td>1.275000</td>\n",
       "      <td>1.000000</td>\n",
       "      <td>0.918000</td>\n",
       "      <td>0.994000</td>\n",
       "      <td>0.994000</td>\n",
       "      <td>0.996000</td>\n",
       "      <td>0.991000</td>\n",
       "      <td>239.440000</td>\n",
       "      <td>517810.000000</td>\n",
       "    </tr>\n",
       "  </tbody>\n",
       "</table>\n",
       "</div>"
      ],
      "text/plain": [
       "       track_popularity  danceability        energy           key  \\\n",
       "count      32833.000000  32833.000000  32833.000000  32833.000000   \n",
       "mean          42.477081      0.654850      0.698619      5.374471   \n",
       "std           24.984074      0.145085      0.180910      3.611657   \n",
       "min            0.000000      0.000000      0.000175      0.000000   \n",
       "25%           24.000000      0.563000      0.581000      2.000000   \n",
       "50%           45.000000      0.672000      0.721000      6.000000   \n",
       "75%           62.000000      0.761000      0.840000      9.000000   \n",
       "max          100.000000      0.983000      1.000000     11.000000   \n",
       "\n",
       "           loudness          mode   speechiness  acousticness  \\\n",
       "count  32833.000000  32833.000000  32833.000000  32833.000000   \n",
       "mean      -6.719499      0.565711      0.107068      0.175334   \n",
       "std        2.988436      0.495671      0.101314      0.219633   \n",
       "min      -46.448000      0.000000      0.000000      0.000000   \n",
       "25%       -8.171000      0.000000      0.041000      0.015100   \n",
       "50%       -6.166000      1.000000      0.062500      0.080400   \n",
       "75%       -4.645000      1.000000      0.132000      0.255000   \n",
       "max        1.275000      1.000000      0.918000      0.994000   \n",
       "\n",
       "       instrumentalness      liveness       valence         tempo  \\\n",
       "count      32833.000000  32833.000000  32833.000000  32833.000000   \n",
       "mean           0.084747      0.190176      0.510561    120.881132   \n",
       "std            0.224230      0.154317      0.233146     26.903624   \n",
       "min            0.000000      0.000000      0.000000      0.000000   \n",
       "25%            0.000000      0.092700      0.331000     99.960000   \n",
       "50%            0.000016      0.127000      0.512000    121.984000   \n",
       "75%            0.004830      0.248000      0.693000    133.918000   \n",
       "max            0.994000      0.996000      0.991000    239.440000   \n",
       "\n",
       "         duration_ms  \n",
       "count   32833.000000  \n",
       "mean   225799.811622  \n",
       "std     59834.006182  \n",
       "min      4000.000000  \n",
       "25%    187819.000000  \n",
       "50%    216000.000000  \n",
       "75%    253585.000000  \n",
       "max    517810.000000  "
      ]
     },
     "execution_count": 6,
     "metadata": {},
     "output_type": "execute_result"
    }
   ],
   "source": [
    "df.describe()"
   ]
  },
  {
   "cell_type": "markdown",
   "id": "b2c5e825-594a-4e0a-8340-a865ae35fb67",
   "metadata": {},
   "source": [
    "---\n"
   ]
  },
  {
   "cell_type": "markdown",
   "id": "93ba17ef-98e9-40a1-a23f-5ee2d0369b9a",
   "metadata": {},
   "source": [
    "### Processing the dataset:\n",
    "Process genres"
   ]
  },
  {
   "cell_type": "code",
   "execution_count": 7,
   "id": "e89469c5-f669-4685-a164-a8ab3a63ba04",
   "metadata": {},
   "outputs": [],
   "source": [
    "# Get the unique genres and subgenres\n",
    "unique_genres = df['playlist_genre'].unique()\n",
    "unique_subgenres = df['playlist_subgenre'].unique()\n",
    "\n",
    "# Create a dictionary to map genres to numbers\n",
    "genre_mapping = {genre: i * 100 for i, genre in enumerate(unique_genres)}\n",
    "genre_mapping['Other'] = 0  # Assign 0 to 'Other' genre\n",
    "\n",
    "# Create a dictionary to map subgenres to numbers\n",
    "subgenre_mapping = {}\n",
    "for genre in unique_genres:\n",
    "    subgenres = df[df['playlist_genre'] == genre]['playlist_subgenre'].unique()\n",
    "    for i, subgenre in enumerate(subgenres):\n",
    "        subgenre_mapping[subgenre] = genre_mapping[genre] + i + 1\n",
    "\n",
    "subgenre_mapping['Other'] = 0  # Assign 0 to 'Other' subgenre\n",
    "\n",
    "# Create new columns 'genre_id' and 'subgenre_id' with the assigned numbers\n",
    "df['genre_id'] = df['playlist_genre'].map(genre_mapping)\n",
    "df['genre_id'] = df['genre_id'].fillna(0).astype(int)\n",
    "df['subgenre_id'] = df['playlist_subgenre'].map(subgenre_mapping)\n",
    "df['subgenre_id'] = df['subgenre_id'].fillna(0).astype(int)"
   ]
  },
  {
   "cell_type": "markdown",
   "id": "96d53c81-50f0-41a9-aac6-7da4b3679e0d",
   "metadata": {},
   "source": [
    "<b>Create song embeddings from characteristics</b>"
   ]
  },
  {
   "cell_type": "code",
   "execution_count": 8,
   "id": "3886f79d-486a-4704-9b5c-38ac53e07d0a",
   "metadata": {},
   "outputs": [],
   "source": [
    "# select columns that will be included in our song embedding\n",
    "embedding_headers = [\"danceability\", \"energy\", \"key\", \"loudness\", \"mode\", \"speechiness\", \"acousticness\", \"instrumentalness\", \"liveness\", \"valence\", \"tempo\"]\n",
    "# embedding_headers = [\"genre_id\", \"subgenre_id\", \"danceability\", \"energy\", \"key\", \"loudness\", \"mode\", \"speechiness\", \"acousticness\", \"instrumentalness\", \"liveness\", \"valence\", \"tempo\"]\n",
    "\n",
    "# store the embeddings\n",
    "embedding_df =  df[embedding_headers]"
   ]
  },
  {
   "cell_type": "markdown",
   "id": "a6b080d8-2aef-443b-aa40-3be42e04933c",
   "metadata": {},
   "source": [
    "<b>Normalizing the embeddings</b>"
   ]
  },
  {
   "cell_type": "code",
   "execution_count": 9,
   "id": "5b6a9c24-c4a1-4514-a896-05609ecd66e0",
   "metadata": {},
   "outputs": [
    {
     "name": "stdout",
     "output_type": "stream",
     "text": [
      "[ 0.64204909  1.20161406  0.1731999   1.36712341  0.87617693 -0.48136238\n",
      " -0.33389784 -0.37795302 -0.80922951  0.03190765  0.04292678]\n"
     ]
    }
   ],
   "source": [
    "from sklearn.preprocessing import StandardScaler\n",
    "\n",
    "scaler = StandardScaler() # Create an instance of StandardScaler\n",
    "embedding_matrix = scaler.fit_transform(embedding_df) # Fit and transform the embeddings\n",
    "print(embedding_matrix[0])"
   ]
  },
  {
   "cell_type": "markdown",
   "id": "8334a38d-4fa3-4c50-975b-08ec7b294049",
   "metadata": {},
   "source": [
    "---\n",
    "## Visualizing the embeddings <a class=\"anchor\" id=\"Visualizing_the_embeddings\"></a>"
   ]
  },
  {
   "cell_type": "code",
   "execution_count": 10,
   "id": "9c736b6d-86a7-4e74-961b-f4a3671ca8a5",
   "metadata": {},
   "outputs": [],
   "source": [
    "import matplotlib.pyplot as plt\n",
    "from sklearn.manifold import TSNE\n",
    "import plotly.graph_objects as go\n",
    "from plotly.offline import plot"
   ]
  },
  {
   "cell_type": "code",
   "execution_count": 24,
   "id": "a5eaba77-877a-45b9-8a19-3f8ce3cb0712",
   "metadata": {},
   "outputs": [],
   "source": [
    "# embedding_matrix contains the song embeddings after being normalized\n",
    "embeddings = embedding_matrix\n",
    "\n",
    "# Perform t-SNE to reduce the dimensions to 3\n",
    "tsne = TSNE(n_components=3, random_state=42)\n",
    "embeddings_tsne = tsne.fit_transform(embeddings)"
   ]
  },
  {
   "cell_type": "code",
   "execution_count": 37,
   "id": "bed17c1d-f0cb-4843-b8ad-7accbddb8833",
   "metadata": {},
   "outputs": [
    {
     "data": {
      "text/plain": [
       "'song_embeddings_3d.html'"
      ]
     },
     "execution_count": 37,
     "metadata": {},
     "output_type": "execute_result"
    }
   ],
   "source": [
    "# Create a DataFrame with the t-SNE embeddings and genre information\n",
    "tsne_df = pd.DataFrame(data=embeddings_tsne, columns=['t-SNE1', 't-SNE2', 't-SNE3'])\n",
    "tsne_df['genre'] = df['playlist_subgenre']\n",
    "tsne_df['track_name'] = df['track_name']\n",
    "tsne_df['artist'] = df['track_artist']\n",
    "\n",
    "# Create custom data for the hover template\n",
    "custom_data = np.stack((tsne_df['track_name'], tsne_df['artist'], tsne_df['genre']), axis=-1)\n",
    "\n",
    "# Create an interactive 3D Plotly plot\n",
    "fig = go.Figure(data=go.Scatter3d(\n",
    "    x=tsne_df['t-SNE1'],\n",
    "    y=tsne_df['t-SNE2'],\n",
    "    z=tsne_df['t-SNE3'],\n",
    "    mode='markers',\n",
    "    marker=dict(\n",
    "        size=3,\n",
    "        color=tsne_df['genre'].astype('category').cat.codes,\n",
    "        colorscale='viridis',\n",
    "        opacity=0.7\n",
    "    ),\n",
    "    customdata=custom_data,\n",
    "    hovertemplate='<b>Track:</b> %{customdata[0]}<br><b>Artist:</b> %{customdata[1]}<br><b>Genre:</b> %{customdata[2]}<extra></extra>'\n",
    "))\n",
    "\n",
    "fig.update_layout(\n",
    "    title='Interactive Visualization of Song Embeddings',\n",
    "    scene=dict(\n",
    "        xaxis_title='x1',\n",
    "        yaxis_title='x2',\n",
    "        zaxis_title='x3'\n",
    "    )\n",
    ")\n",
    "\n",
    "# Save the interactive plot as an HTML file\n",
    "plot(fig, filename='song_embeddings_3d.html')"
   ]
  },
  {
   "cell_type": "markdown",
   "id": "df2a5276-256b-4d0f-a587-487ce9fbac8b",
   "metadata": {},
   "source": [
    "---\n",
    "## Similarity Search <a class=\"anchor\" id=\"Similarity_search\"></a>"
   ]
  },
  {
   "cell_type": "markdown",
   "id": "1fe09894-b088-4159-92de-dee1c23abe9f",
   "metadata": {
    "jp-MarkdownHeadingCollapsed": true
   },
   "source": [
    "### K Nearest Neighbors: <a class=\"anchor\" id=\"knn\"></a>"
   ]
  },
  {
   "cell_type": "code",
   "execution_count": 71,
   "id": "b18e61c1-3234-4e87-a9ff-13cc4506eaf9",
   "metadata": {},
   "outputs": [],
   "source": [
    "from sklearn.neighbors import NearestNeighbors\n",
    "\n",
    "def find_similar_songs(song_embeddings, song_index, k=10):\n",
    "    # Create a NearestNeighbors object\n",
    "    nn = NearestNeighbors(n_neighbors=k, metric='cosine')\n",
    "    \n",
    "    # Fit the NearestNeighbors object with the song embeddings\n",
    "    nn.fit(song_embeddings)\n",
    "    \n",
    "    # Get the embedding of the selected song\n",
    "    selected_song_embedding = song_embeddings[song_index]\n",
    "    \n",
    "    # Find the k nearest neighbors of the selected song\n",
    "    distances, indices = nn.kneighbors([selected_song_embedding])\n",
    "    \n",
    "    # Get the distances and indices of the similar songs\n",
    "    similar_song_distances = distances[0]\n",
    "    similar_song_indices = indices[0]\n",
    "    \n",
    "    # Return the distances and indices of the similar songs\n",
    "    return similar_song_distances, similar_song_indices"
   ]
  },
  {
   "cell_type": "code",
   "execution_count": 72,
   "id": "70ffe139-643f-42e4-984f-f10a4d1d1792",
   "metadata": {},
   "outputs": [
    {
     "name": "stdout",
     "output_type": "stream",
     "text": [
      "CPU times: user 3 µs, sys: 1e+03 ns, total: 4 µs\n",
      "Wall time: 8.34 µs\n",
      "ID: 30000, Name: My House, Artist(s): Flo Rida\n",
      "Genre: [edm, pop edm]\n",
      "\n"
     ]
    }
   ],
   "source": [
    "%time\n",
    "song_embeddings = embedding_matrix\n",
    "id = 30000\n",
    "song = df.iloc[id]\n",
    "print(f'ID: {id}, Name: {song[\"track_name\"]}, Artist(s): {song[\"track_artist\"]}')\n",
    "print(f'Genre: [{song[\"playlist_genre\"]}, {song[\"playlist_subgenre\"]}]\\n')\n",
    "\n",
    "k = 10 # Number of similar songs to retrieve\n",
    "\n",
    "# Find similar songs\n",
    "similar_song_distances, similar_song_indices = find_similar_songs(song_embeddings, id, k)"
   ]
  },
  {
   "cell_type": "code",
   "execution_count": 73,
   "id": "0881870d-3d03-4a99-ab47-02f1f5f0b53e",
   "metadata": {},
   "outputs": [
    {
     "name": "stdout",
     "output_type": "stream",
     "text": [
      "Song 1:\n",
      "  Index: 4813\n",
      "  Title: My House\n",
      "  Artist: Flo Rida\n",
      "  Distance: 0.0\n",
      "\n",
      "Song 2:\n",
      "  Index: 17859\n",
      "  Title: No Te Vayas\n",
      "  Artist: Camilo\n",
      "  Distance: 0.046839562599604534\n",
      "\n",
      "Song 3:\n",
      "  Index: 23672\n",
      "  Title: Per Un Milione\n",
      "  Artist: Boomdabash\n",
      "  Distance: 0.048672934094705855\n",
      "\n",
      "Song 4:\n",
      "  Index: 14648\n",
      "  Title: Dirt in my Eyes\n",
      "  Artist: Cold War Kids\n",
      "  Distance: 0.0490695935056602\n",
      "\n",
      "Song 5:\n",
      "  Index: 25030\n",
      "  Title: Tell Me How You Feel - Radio Mix\n",
      "  Artist: Joy Enriquez\n",
      "  Distance: 0.05361673465518446\n",
      "\n",
      "Song 6:\n",
      "  Index: 3712\n",
      "  Title: I Took A Pill In Ibiza - Seeb Remix\n",
      "  Artist: Mike Posner\n",
      "  Distance: 0.059688812912257694\n",
      "\n",
      "Song 7:\n",
      "  Index: 5325\n",
      "  Title: I Took A Pill In Ibiza - Seeb Remix\n",
      "  Artist: Mike Posner\n",
      "  Distance: 0.059688812912257694\n",
      "\n",
      "Song 8:\n",
      "  Index: 30108\n",
      "  Title: I Took A Pill In Ibiza - Seeb Remix\n",
      "  Artist: Mike Posner\n",
      "  Distance: 0.059688812912257694\n",
      "\n",
      "Song 9:\n",
      "  Index: 2620\n",
      "  Title: Blow That Smoke (feat. Tove Lo)\n",
      "  Artist: Major Lazer\n",
      "  Distance: 0.06313268377241965\n",
      "\n"
     ]
    }
   ],
   "source": [
    "# Print the details of the similar songs\n",
    "for i, index in enumerate(similar_song_indices):\n",
    "    if i == 0:\n",
    "        continue\n",
    "    print(f\"Song {i}:\")\n",
    "    print(\"  Index:\", index)\n",
    "    print(\"  Title:\", df.loc[index, 'track_name'])\n",
    "    print(\"  Artist:\", df.loc[index, 'track_artist'])\n",
    "    print(\"  Distance:\", similar_song_distances[i])\n",
    "    print()"
   ]
  },
  {
   "cell_type": "markdown",
   "id": "bad30732-4cad-49c0-a225-3bce9169dbc3",
   "metadata": {},
   "source": [
    "### Cosine similarity: <a class=\"anchor\" id=\"cosine_similarity\"></a>\n",
    "\n",
    "    cosine_similarity_vec(songA, songB) = dot_product(A,B) / (norm(A) * norm(B))\n",
    "    cosine_similarity_matrix(songsA, songB) = dot_product(A,B) / (norm(A) * norm(B))"
   ]
  },
  {
   "cell_type": "code",
   "execution_count": 74,
   "id": "2f6b3065-fd3f-46b5-a462-4f84b59d9415",
   "metadata": {},
   "outputs": [],
   "source": [
    "def cosine_similarity_vec(vecA, vecB):\n",
    "    dp = np.dot(vecA, vecB) # dot product of vector A and B\n",
    "    # Compute the L2 norms (Euclidean lengths) (Frobenius norm) of the vectors\n",
    "    norm1 = np.linalg.norm(vecA)\n",
    "    norm2 = np.linalg.norm(vecB)\n",
    "    return dp / (norm1 * norm2)\n",
    "\n",
    "def cosine_similarity_matrix_vec(matrixA, vecB):\n",
    "    dp = np.dot(matrixA, vecB) # dot product of matrix A and vector B\n",
    "    # Compute the L2 norms (Euclidean lengths) (Frobenius norm) of the matirx A and vector B\n",
    "    norm1 = np.linalg.norm(matrixA, axis=1)\n",
    "    norm2 = np.linalg.norm(vecB)\n",
    "    return dp / (norm1 * norm2)\n",
    "\n",
    "def cosine_similarity_matrix(matrixA, matrixB):\n",
    "    dp = np.dot(matrixA, matrixB.T) # dot product of matrix A and vector B\n",
    "    # Compute the L2 norms (Euclidean lengths) (Frobenius norm) of the matirx A and matrix B\n",
    "    norm1 = np.linalg.norm(matrixA, axis=1)\n",
    "    norm2 = np.linalg.norm(matrixB, axis=1)\n",
    "    return dp / np.outer(norm1, norm2)"
   ]
  },
  {
   "cell_type": "markdown",
   "id": "482bd7fe-5d7f-43e4-a5ac-b639f44fe199",
   "metadata": {},
   "source": [
    "<b>Softmax function:</b>"
   ]
  },
  {
   "cell_type": "code",
   "execution_count": 75,
   "id": "2b6103db-cf8d-45b4-af80-c5594406f7ad",
   "metadata": {},
   "outputs": [],
   "source": [
    "def softmax(x):\n",
    "    exp_x = np.exp(x - np.max(x))\n",
    "    return exp_x / np.sum(exp_x)"
   ]
  },
  {
   "cell_type": "markdown",
   "id": "0df747bf-3806-4d20-80a8-b6d679d8c702",
   "metadata": {},
   "source": [
    "---"
   ]
  },
  {
   "cell_type": "markdown",
   "id": "12e75407-83d7-4298-b49d-858e39d3bc5e",
   "metadata": {},
   "source": [
    "<b>Run similarity search</b>"
   ]
  },
  {
   "cell_type": "code",
   "execution_count": 80,
   "id": "a89dd69c-42a9-4e68-90cf-1a36625abb6c",
   "metadata": {},
   "outputs": [
    {
     "name": "stdout",
     "output_type": "stream",
     "text": [
      "ID: 30000, Name: My House, Artist(s): Flo Rida\n",
      "Genre: [edm, pop edm]\n",
      "\n",
      "CPU times: user 32.8 ms, sys: 38.4 ms, total: 71.1 ms\n",
      "Wall time: 13.4 ms\n"
     ]
    }
   ],
   "source": [
    "%%time\n",
    "# Find the cosines of the song id wrt to every other song\n",
    "id = 30000\n",
    "song = df.iloc[id]\n",
    "print(f'ID: {id}, Name: {song[\"track_name\"]}, Artist(s): {song[\"track_artist\"]}')\n",
    "print(f'Genre: [{song[\"playlist_genre\"]}, {song[\"playlist_subgenre\"]}]\\n')\n",
    "res = cosine_similarity_matrix_vec(embedding_matrix, embedding_matrix[id])\n",
    "# softmax_res = softmax(res)"
   ]
  },
  {
   "cell_type": "code",
   "execution_count": 81,
   "id": "6e8628d1-03dc-4464-9308-1af51c101c6b",
   "metadata": {},
   "outputs": [
    {
     "name": "stdout",
     "output_type": "stream",
     "text": [
      "CPU times: user 3.46 ms, sys: 16 ms, total: 19.4 ms\n",
      "Wall time: 2.08 ms\n"
     ]
    }
   ],
   "source": [
    "%%time\n",
    "k = 20  # Number of top similar songs to retrieve\n",
    "top_k_idx = np.argsort(res)[-k:][::-1][1:] # Get the indices of the top k similar songs and ignore first song\n",
    "top_k_scores = res[top_k_idx] # Get the scores of the top k similar songs"
   ]
  },
  {
   "cell_type": "markdown",
   "id": "58b0e384-428f-401a-b098-19168a369bda",
   "metadata": {},
   "source": [
    "Display metadata of top k songs"
   ]
  },
  {
   "cell_type": "code",
   "execution_count": 82,
   "id": "e0c4bee8-361c-4514-8b15-d3d95f37c643",
   "metadata": {},
   "outputs": [
    {
     "name": "stdout",
     "output_type": "stream",
     "text": [
      "ID: 30000, Name: My House, Artist(s): Flo Rida\n",
      "Genre: [edm, pop edm], Score: 1.0\n",
      "\n",
      "ID: 17859, Name: No Te Vayas, Artist(s): Camilo\n",
      "Genre: [latin, latin pop], Score: 0.9531604374003954\n",
      "\n",
      "ID: 23672, Name: Per Un Milione, Artist(s): Boomdabash\n",
      "Genre: [r&b, hip pop], Score: 0.9513270659052938\n",
      "\n",
      "ID: 14648, Name: Dirt in my Eyes, Artist(s): Cold War Kids\n",
      "Genre: [rock, permanent wave], Score: 0.9509304064943395\n",
      "\n",
      "ID: 25030, Name: Tell Me How You Feel - Radio Mix, Artist(s): Joy Enriquez\n",
      "Genre: [r&b, new jack swing], Score: 0.9463832653448154\n",
      "\n",
      "ID: 5325, Name: I Took A Pill In Ibiza - Seeb Remix, Artist(s): Mike Posner\n",
      "Genre: [pop, indie poptimism], Score: 0.9403111870877422\n",
      "\n",
      "ID: 3712, Name: I Took A Pill In Ibiza - Seeb Remix, Artist(s): Mike Posner\n",
      "Genre: [pop, electropop], Score: 0.9403111870877422\n",
      "\n",
      "ID: 30108, Name: I Took A Pill In Ibiza - Seeb Remix, Artist(s): Mike Posner\n",
      "Genre: [edm, pop edm], Score: 0.9403111870877422\n",
      "\n",
      "ID: 2620, Name: Blow That Smoke (feat. Tove Lo), Artist(s): Major Lazer\n",
      "Genre: [pop, electropop], Score: 0.9368673162275803\n",
      "\n",
      "ID: 25544, Name: Velvet, Artist(s): falcxne\n",
      "Genre: [r&b, neo soul], Score: 0.9348359310597882\n",
      "\n",
      "ID: 2860, Name: Lush Life, Artist(s): Zara Larsson\n",
      "Genre: [pop, electropop], Score: 0.9300904653447933\n",
      "\n",
      "ID: 2692, Name: Lush Life, Artist(s): Zara Larsson\n",
      "Genre: [pop, electropop], Score: 0.9300904653447933\n",
      "\n",
      "ID: 1239, Name: Lush Life, Artist(s): Zara Larsson\n",
      "Genre: [pop, dance pop], Score: 0.9300904653447933\n",
      "\n",
      "ID: 24396, Name: Right Here - Human Nature Radio Mix, Artist(s): SWV\n",
      "Genre: [r&b, new jack swing], Score: 0.9299544019920686\n",
      "\n",
      "ID: 17705, Name: Jam, Artist(s): Starboy\n",
      "Genre: [latin, latin pop], Score: 0.9285675484247281\n",
      "\n",
      "ID: 2211, Name: Cheap Thrills, Artist(s): Sia\n",
      "Genre: [pop, post-teen pop], Score: 0.9271045174907787\n",
      "\n",
      "ID: 1206, Name: Cheap Thrills, Artist(s): Sia\n",
      "Genre: [pop, dance pop], Score: 0.9271045174907787\n",
      "\n",
      "ID: 30637, Name: Cheap Thrills, Artist(s): Sia\n",
      "Genre: [edm, pop edm], Score: 0.9271045174907787\n",
      "\n",
      "ID: 3775, Name: Cheap Thrills, Artist(s): Sia\n",
      "Genre: [pop, electropop], Score: 0.9271045174907787\n",
      "\n"
     ]
    }
   ],
   "source": [
    "for idx, score in zip(top_k_idx, top_k_scores):\n",
    "    song = df.iloc[idx]\n",
    "    print(f'ID: {idx}, Name: {song[\"track_name\"]}, Artist(s): {song[\"track_artist\"]}')\n",
    "    print(f'Genre: [{song[\"playlist_genre\"]}, {song[\"playlist_subgenre\"]}], Score: {score}\\n')"
   ]
  },
  {
   "cell_type": "markdown",
   "id": "1e61eb12-926d-4a1b-97ba-d23bc6b3840c",
   "metadata": {},
   "source": [
    "---\n",
    "<b>Find average of two embeddings </b>"
   ]
  },
  {
   "cell_type": "code",
   "execution_count": 121,
   "id": "3fd47a75-08dc-4ade-9b26-f89548771fcd",
   "metadata": {},
   "outputs": [
    {
     "name": "stdout",
     "output_type": "stream",
     "text": [
      "ID: 220, Name: Roses - Imanbek Remix, Artist(s): SAINt JHN\n",
      "Genre: [pop, dance pop]\n",
      "\n",
      "ID: 300, Name: Summer Days (feat. Macklemore & Patrick Stump of Fall Out Boy), Artist(s): Martin Garrix\n",
      "Genre: [pop, dance pop]\n",
      "\n"
     ]
    }
   ],
   "source": [
    "# Find the cosines of the first song wrt to every other song\n",
    "id1 = 220\n",
    "song = df.iloc[id1]\n",
    "print(f'ID: {id1}, Name: {song[\"track_name\"]}, Artist(s): {song[\"track_artist\"]}')\n",
    "print(f'Genre: [{song[\"playlist_genre\"]}, {song[\"playlist_subgenre\"]}]\\n')\n",
    "\n",
    "id2 = 300\n",
    "song = df.iloc[id2]\n",
    "print(f'ID: {id2}, Name: {song[\"track_name\"]}, Artist(s): {song[\"track_artist\"]}')\n",
    "print(f'Genre: [{song[\"playlist_genre\"]}, {song[\"playlist_subgenre\"]}]\\n')\n",
    "\n",
    "def concatenate_song_vectors(*song_vectors):\n",
    "    # Concatenate the song vectors vertically\n",
    "    concatenated_matrix = np.vstack(song_vectors)\n",
    "    return concatenated_matrix\n",
    "\n",
    "concatenated_matrix = concatenate_song_vectors(embedding_matrix[id1], embedding_matrix[id2])\n",
    "average_embedding = np.mean(concatenated_matrix, axis=0)"
   ]
  },
  {
   "cell_type": "code",
   "execution_count": 122,
   "id": "1ad81891-7cf1-4fda-862c-644594d445c2",
   "metadata": {},
   "outputs": [
    {
     "name": "stdout",
     "output_type": "stream",
     "text": [
      "CPU times: user 76.4 ms, sys: 85.6 ms, total: 162 ms\n",
      "Wall time: 22.1 ms\n"
     ]
    }
   ],
   "source": [
    "%%time\n",
    "\n",
    "avg_res = cosine_similarity_matrix_vec(embedding_matrix, average_embedding)\n",
    "k = 10  # Number of top similar songs to retrieve\n",
    "top_k_idx = np.argsort(avg_res)[-k:][::-1] # Get the indices of the top k similar songs\n",
    "top_k_scores = avg_res[top_k_idx] # Get the scores of the top k similar songs"
   ]
  },
  {
   "cell_type": "code",
   "execution_count": 123,
   "id": "db514f4f-4352-4888-9f18-2b74c31145bf",
   "metadata": {},
   "outputs": [
    {
     "name": "stdout",
     "output_type": "stream",
     "text": [
      "ID: 1488, Name: Rumors, Artist(s): Lindsay Lohan\n",
      "Genre: [pop, post-teen pop], Score: 0.8518682256465477\n",
      "\n",
      "ID: 30038, Name: Lonely, Artist(s): Carson Lueders\n",
      "Genre: [edm, pop edm], Score: 0.8413254304031813\n",
      "\n",
      "ID: 14648, Name: Dirt in my Eyes, Artist(s): Cold War Kids\n",
      "Genre: [rock, permanent wave], Score: 0.8404903490182943\n",
      "\n",
      "ID: 18923, Name: Lo Que Pasó, Pasó, Artist(s): Daddy Yankee\n",
      "Genre: [latin, reggaeton], Score: 0.8277508433689182\n",
      "\n",
      "ID: 25514, Name: Doing Alright, Artist(s): Bastian Steven\n",
      "Genre: [r&b, neo soul], Score: 0.8271037985607315\n",
      "\n",
      "ID: 24818, Name: If I Had No Loot, Artist(s): Tony! Toni! Toné!\n",
      "Genre: [r&b, new jack swing], Score: 0.8261462820222887\n",
      "\n",
      "ID: 22628, Name: La Negra Tiene Tumbao, Artist(s): Celia Cruz\n",
      "Genre: [r&b, urban contemporary], Score: 0.8169560596331372\n",
      "\n",
      "ID: 7334, Name: Pretty Girls, Artist(s): Britney Spears\n",
      "Genre: [rap, southern hip hop], Score: 0.813493912646819\n",
      "\n",
      "ID: 1739, Name: Pretty Girls, Artist(s): Britney Spears\n",
      "Genre: [pop, post-teen pop], Score: 0.813493912646819\n",
      "\n",
      "ID: 19150, Name: Alocate, Artist(s): Zion\n",
      "Genre: [latin, reggaeton], Score: 0.8085287962472797\n",
      "\n"
     ]
    }
   ],
   "source": [
    "for idx, score in zip(top_k_idx, top_k_scores):\n",
    "    song = df.iloc[idx]\n",
    "    print(f'ID: {idx}, Name: {song[\"track_name\"]}, Artist(s): {song[\"track_artist\"]}')\n",
    "    print(f'Genre: [{song[\"playlist_genre\"]}, {song[\"playlist_subgenre\"]}], Score: {score}\\n')"
   ]
  },
  {
   "cell_type": "markdown",
   "id": "d31aca09-c474-4e6f-8f5c-9c057953f550",
   "metadata": {},
   "source": [
    "---\n",
    "### Optimized Cosine Similarity <a class=\"anchor\" id=\"optim_cosine_similarity\"></a>\n"
   ]
  },
  {
   "cell_type": "code",
   "execution_count": 188,
   "id": "ca560dca-1a55-4adf-8a65-8fda6be1f4be",
   "metadata": {},
   "outputs": [
    {
     "name": "stderr",
     "output_type": "stream",
     "text": [
      "/Users/purav/miniconda3/envs/myenv/lib/python3.11/site-packages/sklearn/cluster/_kmeans.py:870: FutureWarning:\n",
      "\n",
      "The default value of `n_init` will change from 10 to 'auto' in 1.4. Set the value of `n_init` explicitly to suppress the warning\n",
      "\n"
     ]
    }
   ],
   "source": [
    "from sklearn.cluster import KMeans\n",
    "\n",
    "# Step 1: Perform clustering on the embedding dataset\n",
    "num_clusters = 300\n",
    "kmeans = KMeans(num_clusters, random_state=42)\n",
    "cluster_labels = kmeans.fit_predict(embedding_matrix)"
   ]
  },
  {
   "cell_type": "code",
   "execution_count": 189,
   "id": "ea14aa3e-92e7-4145-88ef-6c90b1466534",
   "metadata": {},
   "outputs": [],
   "source": [
    "# Step 2: Create the average embeddings matrix\n",
    "cluster_averages = []\n",
    "cluster_indices = []\n",
    "for i in range(num_clusters):\n",
    "    cluster_embeddings = embedding_matrix[cluster_labels == i]\n",
    "    cluster_average = np.mean(cluster_embeddings, axis=0)\n",
    "    cluster_averages.append(cluster_average)\n",
    "    cluster_indices.append(np.where(cluster_labels == i)[0])\n",
    "\n",
    "cluster_averages = np.array(cluster_averages)"
   ]
  },
  {
   "cell_type": "markdown",
   "id": "c0ecd717-c690-4586-a87a-dcf96ea8056f",
   "metadata": {},
   "source": [
    "<b>visualizing the clusters:</b>"
   ]
  },
  {
   "cell_type": "code",
   "execution_count": 174,
   "id": "baebaee4-ee75-4692-a78f-4f1dd14c29dc",
   "metadata": {},
   "outputs": [],
   "source": [
    "# cluster averages contains the average embedding of each cluster\n",
    "embeddings = cluster_averages\n",
    "\n",
    "# Perform t-SNE to reduce the dimensions to 3\n",
    "tsne = TSNE(n_components=3, random_state=42)\n",
    "embeddings_tsne = tsne.fit_transform(embeddings)"
   ]
  },
  {
   "cell_type": "code",
   "execution_count": 175,
   "id": "e8a5d545-b54f-4895-86d1-63465dd33a62",
   "metadata": {},
   "outputs": [
    {
     "data": {
      "text/plain": [
       "'cluster_average_embeddings_3d.html'"
      ]
     },
     "execution_count": 175,
     "metadata": {},
     "output_type": "execute_result"
    }
   ],
   "source": [
    "# Create a DataFrame with the t-SNE embeddings and cluster information\n",
    "tsne_df = pd.DataFrame(data=embeddings_tsne, columns=['t-SNE1', 't-SNE2', 't-SNE3'])\n",
    "tsne_df['cluster'] = np.arange(len(cluster_averages))\n",
    "\n",
    "# Create custom data for the hover template\n",
    "custom_data = np.stack((tsne_df['cluster']), axis=-1)\n",
    "\n",
    "# Create an interactive 3D Plotly plot\n",
    "fig = go.Figure(data=go.Scatter3d(\n",
    "    x=tsne_df['t-SNE1'],\n",
    "    y=tsne_df['t-SNE2'],\n",
    "    z=tsne_df['t-SNE3'],\n",
    "    mode='markers',\n",
    "    marker=dict(\n",
    "        size=5,\n",
    "        color=tsne_df['cluster'],\n",
    "        colorscale='viridis',\n",
    "        opacity=0.8\n",
    "    ),\n",
    "    customdata=custom_data,\n",
    "    hovertemplate='<b>Cluster:</b> %{customdata[0]}<extra></extra>'\n",
    "))\n",
    "\n",
    "fig.update_layout(\n",
    "    title='Interactive Visualization of Cluster Average Embeddings',\n",
    "    scene=dict(\n",
    "        xaxis_title='x1',\n",
    "        yaxis_title='x2',\n",
    "        zaxis_title='x3'\n",
    "    )\n",
    ")\n",
    "\n",
    "# Save the interactive plot as an HTML file\n",
    "plot(fig, filename='cluster_average_embeddings_3d.html')"
   ]
  },
  {
   "cell_type": "markdown",
   "id": "42b1a22e-c087-4c5e-83ca-5ba1d6e91e66",
   "metadata": {},
   "source": [
    "<b>running similarity search:</b>"
   ]
  },
  {
   "cell_type": "code",
   "execution_count": 233,
   "id": "45ec17b8-88cd-4859-a17d-86fdeabb9717",
   "metadata": {},
   "outputs": [],
   "source": [
    "# Step 3: Find similar songs\n",
    "def retrieve_similar_songs(song_embedding, top_k=11, num_clusters_to_compare=3):\n",
    "    # Compare the song embedding to the cluster average embeddings\n",
    "    cluster_res = cosine_similarity_matrix_vec(cluster_averages, song_embedding)\n",
    "    top_clusters = np.argsort(cluster_res)[-num_clusters_to_compare:][::-1]\n",
    "    # Concatenate the embeddings and metadata from the top clusters\n",
    "    top_clusters_embeddings = []\n",
    "    top_clusters_metadata = []\n",
    "    \n",
    "    for top_cluster in top_clusters:\n",
    "        cluster_embeddings = embedding_matrix[cluster_indices[top_cluster]]\n",
    "        cluster_metadata = df.iloc[cluster_indices[top_cluster]]\n",
    "        \n",
    "        top_clusters_embeddings.append(cluster_embeddings)\n",
    "        top_clusters_metadata.append(cluster_metadata)\n",
    "    \n",
    "    top_clusters_embeddings = np.concatenate(top_clusters_embeddings, axis=0)\n",
    "    top_clusters_metadata = pd.concat(top_clusters_metadata, ignore_index=True)\n",
    "    \n",
    "    # Calculate cosine similarity within the concatenated top clusters\n",
    "    res = cosine_similarity_matrix_vec(top_clusters_embeddings, song_embedding)\n",
    "    top_indices = np.argsort(res)[-top_k:][::-1][1:]\n",
    "    \n",
    "    # Get the top similar songs and their metadata\n",
    "    similar_songs = top_clusters_metadata.iloc[top_indices]\n",
    "    similar_songs_scores = res[top_indices]\n",
    "    \n",
    "    return similar_songs, similar_songs_scores"
   ]
  },
  {
   "cell_type": "code",
   "execution_count": 259,
   "id": "55106b0b-9382-4a32-bf14-2e5efa270b97",
   "metadata": {},
   "outputs": [
    {
     "name": "stdout",
     "output_type": "stream",
     "text": [
      "ID: 99, Name: Good Things Fall Apart (with Jon Bellion), Artist(s): ILLENIUM\n",
      "Genre: [pop, dance pop]\n",
      "\n"
     ]
    }
   ],
   "source": [
    "# Example usage\n",
    "song_index = 99 # Specify the index of the song you want to find similar songs for\n",
    "song_embedding = embedding_matrix[song_index]\n",
    "song = df.iloc[song_index]\n",
    "print(f'ID: {song_index}, Name: {song[\"track_name\"]}, Artist(s): {song[\"track_artist\"]}')\n",
    "print(f'Genre: [{song[\"playlist_genre\"]}, {song[\"playlist_subgenre\"]}]\\n')"
   ]
  },
  {
   "cell_type": "code",
   "execution_count": 260,
   "id": "c5a8950f-ec25-4fb7-a6a0-df7db69cb748",
   "metadata": {},
   "outputs": [
    {
     "name": "stdout",
     "output_type": "stream",
     "text": [
      "CPU times: user 3 µs, sys: 2 µs, total: 5 µs\n",
      "Wall time: 8.82 µs\n",
      "\n",
      "Similar songs for: Good Things Fall Apart (with Jon Bellion) - ILLENIUM\n",
      "\n",
      "1. Good Things Fall Apart (with Jon Bellion) - ILLENIUM [Score: 1.0000]\n",
      "2. Whatever It Takes - Imagine Dragons [Score: 0.9369]\n",
      "3. Say It Ain't So - Weezer [Score: 0.9357]\n",
      "4. Say It Ain't So - Weezer [Score: 0.9357]\n",
      "5. Made For You - John De Sohn [Score: 0.9285]\n",
      "6. Obsessed - Hogland [Score: 0.9167]\n",
      "7. Blue Savannah - Erasure [Score: 0.9041]\n",
      "8. Everyday - Logic [Score: 0.9006]\n",
      "9. Everyday - Logic [Score: 0.9006]\n",
      "10. Mr. Angel - Tommy Newport [Score: 0.8927]\n"
     ]
    }
   ],
   "source": [
    "%time\n",
    "\n",
    "similar_songs, similar_songs_scores = retrieve_similar_songs(song_embedding)\n",
    "\n",
    "# Print the similar songs and their scores\n",
    "print(f\"\\nSimilar songs for: {df.iloc[song_index]['track_name']} - {df.iloc[song_index]['track_artist']}\\n\")\n",
    "for i, (index, song) in enumerate(similar_songs.iterrows()):\n",
    "    print(f\"{i+1}. {song['track_name']} - {song['track_artist']} [Score: {similar_songs_scores[i]:.4f}]\")"
   ]
  },
  {
   "cell_type": "code",
   "execution_count": null,
   "id": "d36f4694-0411-4702-9976-39da279f10b2",
   "metadata": {},
   "outputs": [],
   "source": []
  }
 ],
 "metadata": {
  "kernelspec": {
   "display_name": "Python 3 (ipykernel)",
   "language": "python",
   "name": "python3"
  },
  "language_info": {
   "codemirror_mode": {
    "name": "ipython",
    "version": 3
   },
   "file_extension": ".py",
   "mimetype": "text/x-python",
   "name": "python",
   "nbconvert_exporter": "python",
   "pygments_lexer": "ipython3",
   "version": "3.11.5"
  }
 },
 "nbformat": 4,
 "nbformat_minor": 5
}
